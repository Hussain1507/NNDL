{
  "nbformat": 4,
  "nbformat_minor": 0,
  "metadata": {
    "colab": {
      "provenance": []
    },
    "kernelspec": {
      "name": "python3",
      "display_name": "Python 3"
    },
    "language_info": {
      "name": "python"
    }
  },
  "cells": [
    {
      "cell_type": "markdown",
      "source": [
        "1a.Write a python program for the following:\n",
        "\n",
        "Input the string “Python” as a list of characters from console, delete at least 2 characters, reverse the resultant string and print it."
      ],
      "metadata": {
        "id": "ilEgByejaWZv"
      }
    },
    {
      "cell_type": "code",
      "execution_count": 7,
      "metadata": {
        "colab": {
          "base_uri": "https://localhost:8080/"
        },
        "id": "9sjVefbdaUgh",
        "outputId": "078fa375-5d5b-431a-b6f5-93f684a84d53"
      },
      "outputs": [
        {
          "output_type": "stream",
          "name": "stdout",
          "text": [
            "Input the string: Python\n",
            "['P', 'y', 't', 'h', 'o', 'n']\n",
            "htyP\n"
          ]
        }
      ],
      "source": [
        "# Input the string from the user\n",
        "initial_string = list(input(\"Input the string: \"))\n",
        "\n",
        "# Print the list of characters taken from the user\n",
        "print(initial_string)\n",
        "\n",
        "# Remove first 2 characters from the string using slicing\n",
        "final_string = initial_string[:len(initial_string)-2]\n",
        "\n",
        "# Reverse the string and printing the final output as a string\n",
        "print(\"\".join(final_string[::-1]))"
      ]
    },
    {
      "cell_type": "markdown",
      "source": [
        "1b. Take two numbers from user and perform at least 4 arithmetic operations on them."
      ],
      "metadata": {
        "id": "uWdzjAcJa97e"
      }
    },
    {
      "cell_type": "code",
      "source": [
        "# Two numbers from the user\n",
        "num1, num2 = map(int, input(\"Input 2 numbers seperating them with a space between them: \").split())\n",
        "\n",
        "#Add the numbers\n",
        "print(\"Addition of \" + str(num1) + \" and \" + str(num2) + \" is \"+ str(num1 + num2))\n",
        "\n",
        "#Subtract the numbers\n",
        "print(\"Subtraction of \" + str(num1) + \" and \" + str(num2) + \" is \"+ str(num1 - num2))\n",
        "\n",
        "#Multiply the numbers\n",
        "print(\"Multiplication of \" + str(num1) + \" and \" + str(num2) + \" is \"+ str(num1 * num2))\n",
        "\n",
        "#Divide the numbers\n",
        "print(\"Division of \" + str(num1) + \" and \" + str(num2) + \" is \"+ str(num1 // num2))"
      ],
      "metadata": {
        "colab": {
          "base_uri": "https://localhost:8080/"
        },
        "id": "cjVGoAdZbJRK",
        "outputId": "9528f52d-befd-4d68-cf0c-3fca4da931a0"
      },
      "execution_count": 13,
      "outputs": [
        {
          "output_type": "stream",
          "name": "stdout",
          "text": [
            "Input 2 numbers seperating them with a space between them: 2 9\n",
            "Addition of 2 and 9 is 11\n",
            "Subtraction of 2 and 9 is -7\n",
            "Multiplication of 2 and 9 is 18\n",
            "Division of 2 and 9 is 0\n"
          ]
        }
      ]
    },
    {
      "cell_type": "markdown",
      "source": [
        "2.Write a program that accepts a sentence and replace each occurrence of ‘python’ with ‘pythons’."
      ],
      "metadata": {
        "id": "eH867-9abh1f"
      }
    },
    {
      "cell_type": "code",
      "source": [
        "#Taking the input string from the user\n",
        "input_string = input(\"Enter the string: \")\n",
        "\n",
        "#Using repace method Replace each occurrence of the word 'python' with 'pythons'\n",
        "output_string = input_string.replace(\"python\", \"pythons\")\n",
        "\n",
        "#Print the final output\n",
        "print(output_string)"
      ],
      "metadata": {
        "colab": {
          "base_uri": "https://localhost:8080/"
        },
        "id": "o-iWXHGKboSA",
        "outputId": "3206d8b5-1cc9-4232-a679-9ca380ac2277"
      },
      "execution_count": 12,
      "outputs": [
        {
          "output_type": "stream",
          "name": "stdout",
          "text": [
            "Enter the string: I love python\n",
            "I love pythons\n"
          ]
        }
      ]
    },
    {
      "cell_type": "markdown",
      "source": [
        "3. Use the if statement conditions to write a program to print the letter grade based on an input classscore. Use the grading scheme we are using in this class."
      ],
      "metadata": {
        "id": "86rTISXCb8Ve"
      }
    },
    {
      "cell_type": "code",
      "source": [
        "score = int(input(\"Enter your score: \"))\n",
        "#Using if conditions to display the grade of the user\n",
        "if score>=90 and score<=100:\n",
        "  print(\"Grade: A\")\n",
        "elif score>=80 and score<=89:\n",
        "  print(\"Grade: B\")\n",
        "elif score>=70 and score<=79:\n",
        "  print(\"Grade: C\")\n",
        "elif score>=60 and score<=69:\n",
        "  print(\"Grade: D\")\n",
        "elif score<=59:\n",
        "  print(\"Grade: F\")"
      ],
      "metadata": {
        "colab": {
          "base_uri": "https://localhost:8080/"
        },
        "id": "6wpFlYCwcCDR",
        "outputId": "24bedabe-7c0f-4087-df7b-762bf7a69afc"
      },
      "execution_count": 14,
      "outputs": [
        {
          "output_type": "stream",
          "name": "stdout",
          "text": [
            "Enter your score: 23\n",
            "Grade: F\n"
          ]
        }
      ]
    }
  ]
}